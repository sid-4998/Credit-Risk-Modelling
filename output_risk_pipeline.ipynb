{
  "cells": [
    {
      "cell_type": "markdown",
      "metadata": {
        "id": "ZfOjWSH5zGJL"
      },
      "source": [
        "### Importing required libraries"
      ]
    },
    {
      "cell_type": "code",
      "execution_count": 27,
      "metadata": {
        "id": "igDgh1qatlaC"
      },
      "outputs": [],
      "source": [
        "import numpy as np\n",
        "import pandas as pd\n",
        "import xgboost as xgb\n",
        "from sklearn.preprocessing import (\n",
        "    OrdinalEncoder,\n",
        "    OneHotEncoder,\n",
        "    LabelEncoder,\n",
        "    MinMaxScaler,\n",
        ")\n",
        "from sklearn.compose import ColumnTransformer\n",
        "from sklearn.pipeline import Pipeline\n",
        "from sklearn.model_selection import train_test_split\n",
        "import time"
      ]
    },
    {
      "cell_type": "code",
      "execution_count": 28,
      "metadata": {
        "id": "e3L8qKlut2KZ"
      },
      "outputs": [],
      "source": [
        "# Loading data\n",
        "data = pd.read_csv(\"credit_data.csv\")\n",
        "# data.head(5)\n",
        "# data.drop(columns=[\"Unnamed: 0\"])\n",
        "# data.shape"
      ]
    },
    {
      "cell_type": "code",
      "execution_count": 29,
      "metadata": {
        "id": "c97pX1F9t40x"
      },
      "outputs": [],
      "source": [
        "train_input, test_input, train_target, test_target = train_test_split(\n",
        "    data.drop(columns=[\"Approved_Flag\"]),\n",
        "    data[\"Approved_Flag\"],\n",
        "    test_size=0.2,\n",
        "    random_state=42)"
      ]
    },
    {
      "cell_type": "markdown",
      "metadata": {
        "id": "XcrBpx_FzCdQ"
      },
      "source": [
        "### Model Pipeline"
      ]
    },
    {
      "cell_type": "code",
      "execution_count": 30,
      "metadata": {
        "colab": {
          "base_uri": "https://localhost:8080/",
          "height": 186
        },
        "id": "fK3ZYMaqt4xv",
        "outputId": "d3764969-683e-4ce8-b442-aff6f40187bd"
      },
      "outputs": [
        {
          "data": {
            "text/html": [
              "<div style=\"max-width:800px; border: 1px solid var(--colab-border-color);\"><style>\n",
              "      pre.function-repr-contents {\n",
              "        overflow-x: auto;\n",
              "        padding: 8px 12px;\n",
              "        max-height: 500px;\n",
              "      }\n",
              "\n",
              "      pre.function-repr-contents.function-repr-contents-collapsed {\n",
              "        cursor: pointer;\n",
              "        max-height: 100px;\n",
              "      }\n",
              "    </style>\n",
              "    <pre style=\"white-space: initial; background:\n",
              "         var(--colab-secondary-surface-color); padding: 8px 12px;\n",
              "         border-bottom: 1px solid var(--colab-border-color);\"><b>sklearn.compose._column_transformer.ColumnTransformer.get_params</b><br/>def get_params(deep=True)</pre><pre class=\"function-repr-contents function-repr-contents-collapsed\" style=\"\"><a class=\"filepath\" style=\"display:none\" href=\"#\">/usr/local/lib/python3.10/dist-packages/sklearn/compose/_column_transformer.py</a>Get parameters for this estimator.\n",
              "\n",
              "Returns the parameters given in the constructor as well as the\n",
              "estimators contained within the `transformers` of the\n",
              "`ColumnTransformer`.\n",
              "\n",
              "Parameters\n",
              "----------\n",
              "deep : bool, default=True\n",
              "    If True, will return the parameters for this estimator and\n",
              "    contained subobjects that are estimators.\n",
              "\n",
              "Returns\n",
              "-------\n",
              "params : dict\n",
              "    Parameter names mapped to their values.</pre>\n",
              "      <script>\n",
              "      if (google.colab.kernel.accessAllowed && google.colab.files && google.colab.files.view) {\n",
              "        for (const element of document.querySelectorAll('.filepath')) {\n",
              "          element.style.display = 'block'\n",
              "          element.onclick = (event) => {\n",
              "            event.preventDefault();\n",
              "            event.stopPropagation();\n",
              "            google.colab.files.view(element.textContent, 291);\n",
              "          };\n",
              "        }\n",
              "      }\n",
              "      for (const element of document.querySelectorAll('.function-repr-contents')) {\n",
              "        element.onclick = (event) => {\n",
              "          event.preventDefault();\n",
              "          event.stopPropagation();\n",
              "          element.classList.toggle('function-repr-contents-collapsed');\n",
              "        };\n",
              "      }\n",
              "      </script>\n",
              "      </div>"
            ],
            "text/plain": [
              "<bound method ColumnTransformer.get_params of ColumnTransformer(remainder='passthrough',\n",
              "                  transformers=[('ohe_martial_status',\n",
              "                                 OneHotEncoder(drop='first',\n",
              "                                               handle_unknown='ignore',\n",
              "                                               sparse_output=False),\n",
              "                                 ['MARITALSTATUS']),\n",
              "                                ('ohe_gender',\n",
              "                                 OneHotEncoder(drop='first',\n",
              "                                               handle_unknown='ignore',\n",
              "                                               sparse_output=False),\n",
              "                                 ['GENDER']),\n",
              "                                ('ohe_last_prod_enq2',\n",
              "                                 OneHotEncoder(drop='first',\n",
              "                                               handle_unknown='ignore',\n",
              "                                               sparse_output=False),\n",
              "                                 ['last_prod_enq2']),\n",
              "                                ('ohe_first_prod_enq2',\n",
              "                                 OneHotEncoder(drop='first',\n",
              "                                               handle_unknown='ignore',\n",
              "                                               sparse_output=False),\n",
              "                                 ['first_prod_enq2']),\n",
              "                                ('oe_education',\n",
              "                                 OrdinalEncoder(categories=[array([0, 1, 2, 3, 4, 5, 6])]),\n",
              "                                 ['EDUCATION'])])>"
            ]
          },
          "execution_count": 30,
          "metadata": {},
          "output_type": "execute_result"
        }
      ],
      "source": [
        "# Define transformers for each feature type\n",
        "ohe_transformers = [\n",
        "    (\n",
        "        \"ohe_martial_status\",\n",
        "        OneHotEncoder(sparse_output=False, handle_unknown=\"ignore\", drop=\"first\"),\n",
        "        [\"MARITALSTATUS\"],\n",
        "    ),\n",
        "    (\n",
        "        \"ohe_gender\",\n",
        "        OneHotEncoder(sparse_output=False, handle_unknown=\"ignore\", drop=\"first\"),\n",
        "        [\"GENDER\"],\n",
        "    ),\n",
        "    (\n",
        "        \"ohe_last_prod_enq2\",\n",
        "        OneHotEncoder(sparse_output=False, handle_unknown=\"ignore\", drop=\"first\"),\n",
        "        [\"last_prod_enq2\"],\n",
        "    ),\n",
        "    (\n",
        "        \"ohe_first_prod_enq2\",\n",
        "        OneHotEncoder(sparse_output=False, handle_unknown=\"ignore\", drop=\"first\"),\n",
        "        [\"first_prod_enq2\"],\n",
        "    ),\n",
        "]\n",
        "\n",
        "education_encoder = LabelEncoder()\n",
        "\n",
        "ordinal_transformers = [\n",
        "    (\n",
        "        \"oe_education\",\n",
        "        OrdinalEncoder(\n",
        "            # Now, categories are expected to be numerical\n",
        "            categories=[np.arange(7)]\n",
        "        ),\n",
        "        [\"EDUCATION\"],\n",
        "    ),\n",
        "]\n",
        "\n",
        "\n",
        "# Create ColumnTransformer\n",
        "trf1 = ColumnTransformer(\n",
        "    transformers=ohe_transformers + ordinal_transformers, remainder=\"passthrough\"\n",
        ")\n",
        "\n",
        "trf1.get_params"
      ]
    },
    {
      "cell_type": "code",
      "execution_count": 31,
      "metadata": {
        "id": "UGvXws43t4vD"
      },
      "outputs": [],
      "source": [
        "# Scaling\n",
        "trf2 = ColumnTransformer([(\"scale\", MinMaxScaler(), slice(0, 51))])"
      ]
    },
    {
      "cell_type": "code",
      "execution_count": 32,
      "metadata": {
        "id": "IVLFFq_Rt4se"
      },
      "outputs": [],
      "source": [
        "# Label Encoder (for Categorical Targets Only)\n",
        "le = LabelEncoder()\n",
        "le.fit(train_target)\n",
        "\n",
        "train_target = le.transform(train_target)\n",
        "test_target = le.transform(test_target)"
      ]
    },
    {
      "cell_type": "code",
      "execution_count": 33,
      "metadata": {
        "colab": {
          "base_uri": "https://localhost:8080/"
        },
        "id": "BkWb2bUat4qI",
        "outputId": "41014a31-fc80-4cd7-efab-c424fb1360e7"
      },
      "outputs": [
        {
          "data": {
            "text/plain": [
              "{'trf1': ColumnTransformer(remainder='passthrough',\n",
              "                   transformers=[('ohe_martial_status',\n",
              "                                  OneHotEncoder(drop='first',\n",
              "                                                handle_unknown='ignore',\n",
              "                                                sparse_output=False),\n",
              "                                  ['MARITALSTATUS']),\n",
              "                                 ('ohe_gender',\n",
              "                                  OneHotEncoder(drop='first',\n",
              "                                                handle_unknown='ignore',\n",
              "                                                sparse_output=False),\n",
              "                                  ['GENDER']),\n",
              "                                 ('ohe_last_prod_enq2',\n",
              "                                  OneHotEncoder(drop='first',\n",
              "                                                handle_unknown='ignore',\n",
              "                                                sparse_output=False),\n",
              "                                  ['last_prod_enq2']),\n",
              "                                 ('ohe_first_prod_enq2',\n",
              "                                  OneHotEncoder(drop='first',\n",
              "                                                handle_unknown='ignore',\n",
              "                                                sparse_output=False),\n",
              "                                  ['first_prod_enq2']),\n",
              "                                 ('oe_education',\n",
              "                                  OrdinalEncoder(categories=[array([0, 1, 2, 3, 4, 5, 6])]),\n",
              "                                  ['EDUCATION'])]),\n",
              " 'trf2': ColumnTransformer(transformers=[('scale', MinMaxScaler(), slice(0, 51, None))]),\n",
              " 'clf': XGBClassifier(base_score=None, booster=None, callbacks=None,\n",
              "               colsample_bylevel=None, colsample_bynode=None,\n",
              "               colsample_bytree=None, device=None, early_stopping_rounds=None,\n",
              "               enable_categorical=False, eta=0.15, eval_metric=None,\n",
              "               feature_types=None, gamma=0.2, grow_policy=None,\n",
              "               importance_type=None, interaction_constraints=None,\n",
              "               learning_rate=None, max_bin=None, max_cat_threshold=None,\n",
              "               max_cat_to_onehot=None, max_delta_step=None, max_depth=5,\n",
              "               max_leaves=None, min_child_weight=None, missing=nan,\n",
              "               monotone_constraints=None, multi_strategy=None, n_estimators=None,\n",
              "               n_jobs=None, num_class=4, ...)}"
            ]
          },
          "execution_count": 33,
          "metadata": {},
          "output_type": "execute_result"
        }
      ],
      "source": [
        "# Creating classifier using XGBOOST Algorithm\n",
        "clf = xgb.XGBClassifier(\n",
        "    objective=\"multi:softmax\", num_class=4, eta=0.15, gamma=0.2, max_depth=5\n",
        ")\n",
        "\n",
        "pipe = Pipeline([(\"trf1\", trf1), (\"trf2\", trf2), (\"clf\", clf)])\n",
        "pipe.fit(train_input, train_target)\n",
        "\n",
        "\n",
        "pipe.named_steps"
      ]
    },
    {
      "cell_type": "markdown",
      "metadata": {
        "id": "t1HbtxfJyyw3"
      },
      "source": [
        "### To check Underfitting"
      ]
    },
    {
      "cell_type": "code",
      "execution_count": 34,
      "metadata": {
        "id": "FrzFq9L6t4nV"
      },
      "outputs": [],
      "source": [
        "train_pred = pipe.predict(train_input)"
      ]
    },
    {
      "cell_type": "code",
      "execution_count": 35,
      "metadata": {
        "id": "dR1wgycRt4k4"
      },
      "outputs": [],
      "source": [
        "from sklearn.metrics import accuracy_score, classification_report, precision_recall_fscore_support"
      ]
    },
    {
      "cell_type": "code",
      "execution_count": 36,
      "metadata": {
        "colab": {
          "base_uri": "https://localhost:8080/"
        },
        "id": "-k2dxKiMvO9w",
        "outputId": "9448ebb4-1bc3-49af-dbcf-62c5aecaa6c7"
      },
      "outputs": [
        {
          "data": {
            "text/plain": [
              "0.8211345873822472"
            ]
          },
          "execution_count": 36,
          "metadata": {},
          "output_type": "execute_result"
        }
      ],
      "source": [
        "accuracy_score(train_target,train_pred)"
      ]
    },
    {
      "cell_type": "markdown",
      "metadata": {
        "id": "YuufAX4Iy-xx"
      },
      "source": [
        "### Model Accuracy"
      ]
    },
    {
      "cell_type": "code",
      "execution_count": 37,
      "metadata": {
        "colab": {
          "base_uri": "https://localhost:8080/"
        },
        "id": "pUSm2PjVxAHS",
        "outputId": "5843feca-5a88-4d7e-addc-cf2505a4cba6"
      },
      "outputs": [
        {
          "data": {
            "text/plain": [
              "array([1, 3, 1, ..., 2, 1, 3], dtype=int32)"
            ]
          },
          "execution_count": 37,
          "metadata": {},
          "output_type": "execute_result"
        }
      ],
      "source": [
        "test_pred = pipe.predict(test_input)\n",
        "test_pred"
      ]
    },
    {
      "cell_type": "code",
      "execution_count": 38,
      "metadata": {
        "colab": {
          "base_uri": "https://localhost:8080/"
        },
        "id": "4IVSCADvwObv",
        "outputId": "44ec7255-e9c1-48e3-c01e-100f22495171"
      },
      "outputs": [
        {
          "data": {
            "text/plain": [
              "0.7760608581956496"
            ]
          },
          "execution_count": 38,
          "metadata": {},
          "output_type": "execute_result"
        }
      ],
      "source": [
        "accuracy_score(test_target,test_pred)"
      ]
    },
    {
      "cell_type": "code",
      "execution_count": 39,
      "metadata": {
        "colab": {
          "base_uri": "https://localhost:8080/"
        },
        "id": "6evizaGZvPe3",
        "outputId": "e6054327-bc74-4710-dac2-35b2a04dafc5"
      },
      "outputs": [
        {
          "name": "stdout",
          "output_type": "stream",
          "text": [
            "Overall F1 Score: 0.76\n"
          ]
        }
      ],
      "source": [
        "overall_f1_score = precision_recall_fscore_support(test_target,test_pred, average='weighted')[2]\n",
        "print(f\"Overall F1 Score: {overall_f1_score:.2f}\")"
      ]
    },
    {
      "cell_type": "markdown",
      "metadata": {
        "id": "pLPSOW7M_pUD"
      },
      "source": [
        "### Prediction on Unseen Data"
      ]
    },
    {
      "cell_type": "code",
      "execution_count": 50,
      "metadata": {
        "colab": {
          "base_uri": "https://localhost:8080/"
        },
        "id": "0RX5QtIc_Ep3",
        "outputId": "e227c4c5-0925-4a24-bb27-4ed14c417603"
      },
      "outputs": [
        {
          "name": "stdout",
          "output_type": "stream",
          "text": [
            "Predictions for unseen data:\n"
          ]
        }
      ],
      "source": [
        "# Load the unseen data from an Excel file\n",
        "unseen_data = pd.read_excel(\"unseen_data_without_predictions.xlsx\")\n",
        "\n",
        "# Handle unknown categories in OrdinalEncoder\n",
        "# Get the OrdinalEncoder from the pipeline\n",
        "ordinal_encoder = pipe.named_steps['trf1'].transformers_[4][1]\n",
        "\n",
        "# Set handle_unknown to 'use_encoded_value' and unknown_value to -1\n",
        "ordinal_encoder.set_params(handle_unknown='use_encoded_value', unknown_value=-1)\n",
        "\n",
        "# Use the trained pipeline to predict the target variable for the unseen data\n",
        "predicted_labels = pipe.predict(unseen_data)\n",
        "\n",
        "# Add the predicted labels as a new column to the unseen data DataFrame\n",
        "unseen_data['Predicted_Label'] = predicted_labels\n",
        "\n",
        "# Save the updated DataFrame with the predicted labels to a new Excel file\n",
        "unseen_data.to_excel(\"unseen_data_with_predictions.xlsx\", index=False)\n",
        "\n",
        "# Print and display the predictions in a Jupyter Notebook\n",
        "print(\"Predictions for unseen data:\")"
      ]
    },
    {
      "cell_type": "code",
      "execution_count": 49,
      "metadata": {
        "colab": {
          "base_uri": "https://localhost:8080/"
        },
        "id": "9SoafX3g-5MF",
        "outputId": "3eb64cb2-6acb-42c3-9def-bb46eac81a25"
      },
      "outputs": [
        {
          "data": {
            "text/plain": [
              "array([1, 0, 2, 3], dtype=int32)"
            ]
          },
          "execution_count": 49,
          "metadata": {},
          "output_type": "execute_result"
        }
      ],
      "source": [
        "unseen_data['Predicted_Label'].unique()"
      ]
    },
    {
      "cell_type": "markdown",
      "metadata": {},
      "source": [
        "The results are successfully predicted on the unseen dataset. You can see the results in the `data/unseen_data_with_predictions` folder."
      ]
    },
    {
      "cell_type": "code",
      "execution_count": null,
      "metadata": {
        "id": "J39emi0p_VOz"
      },
      "outputs": [],
      "source": []
    }
  ],
  "metadata": {
    "colab": {
      "provenance": []
    },
    "kernelspec": {
      "display_name": "Python 3",
      "name": "python3"
    },
    "language_info": {
      "name": "python"
    }
  },
  "nbformat": 4,
  "nbformat_minor": 0
}
